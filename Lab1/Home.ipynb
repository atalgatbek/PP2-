{
 "cells": [
  {
   "cell_type": "markdown",
   "id": "7e93c852-70b2-4298-89d6-ca7f28695120",
   "metadata": {},
   "source": [
    "Python HOME"
   ]
  },
  {
   "cell_type": "code",
   "execution_count": 1,
   "id": "956f4bc4-167d-49f8-923c-ec5a1dad82d7",
   "metadata": {},
   "outputs": [
    {
     "name": "stdout",
     "output_type": "stream",
     "text": [
      "Hello World!\n"
     ]
    }
   ],
   "source": [
    "print(\"Hello World!\")"
   ]
  },
  {
   "cell_type": "markdown",
   "id": "7649d582-4c4e-46c2-853b-8843bddb2424",
   "metadata": {},
   "source": [
    "Python Syntax"
   ]
  },
  {
   "cell_type": "code",
   "execution_count": 5,
   "id": "a2b65d9a-4982-42b3-9070-56c86fc7d3b4",
   "metadata": {},
   "outputs": [
    {
     "name": "stdout",
     "output_type": "stream",
     "text": [
      "Five is greater than two!\n"
     ]
    }
   ],
   "source": [
    "if 5 > 2:\n",
    "  print(\"Five is greater than two!\")"
   ]
  },
  {
   "cell_type": "code",
   "execution_count": 6,
   "id": "2e49b3fc-324c-437a-ae4e-c06cef89fd8d",
   "metadata": {},
   "outputs": [
    {
     "name": "stdout",
     "output_type": "stream",
     "text": [
      "Five is greater than two!\n",
      "Five is greater than two!\n"
     ]
    }
   ],
   "source": [
    "if 5 > 2:\n",
    " print(\"Five is greater than two!\") \n",
    "if 5 > 2:\n",
    "        print(\"Five is greater than two!\")"
   ]
  },
  {
   "cell_type": "code",
   "execution_count": 7,
   "id": "406f8689-88d2-41a1-9d15-1385ced773ea",
   "metadata": {},
   "outputs": [],
   "source": [
    "x = 5\n",
    "y = \"Hello, World!\""
   ]
  },
  {
   "cell_type": "markdown",
   "id": "5a208a31-e29d-424c-99a9-36f0212f3490",
   "metadata": {},
   "source": [
    "  Python Comments"
   ]
  },
  {
   "cell_type": "code",
   "execution_count": 8,
   "id": "03a03a71-e93a-43ec-bb00-239d85bd0f73",
   "metadata": {},
   "outputs": [
    {
     "name": "stdout",
     "output_type": "stream",
     "text": [
      "Hello, World!\n"
     ]
    }
   ],
   "source": [
    "#This is a comment\n",
    "print(\"Hello, World!\")"
   ]
  },
  {
   "cell_type": "code",
   "execution_count": 9,
   "id": "d006c8a3-7186-48df-be7e-aa6d7edffc14",
   "metadata": {},
   "outputs": [
    {
     "name": "stdout",
     "output_type": "stream",
     "text": [
      "Hello, World!\n"
     ]
    }
   ],
   "source": [
    "print(\"Hello, World!\") #This is a comment"
   ]
  },
  {
   "cell_type": "code",
   "execution_count": 10,
   "id": "e7f7b9c1-24a6-40da-a7fc-158c6d89a1b5",
   "metadata": {},
   "outputs": [
    {
     "name": "stdout",
     "output_type": "stream",
     "text": [
      "Cheers, Mate!\n"
     ]
    }
   ],
   "source": [
    "#print(\"Hello, World!\")\n",
    "print(\"Cheers, Mate!\")"
   ]
  },
  {
   "cell_type": "code",
   "execution_count": 11,
   "id": "2edb0ce9-bfe6-4921-9048-7f6f6117a3fb",
   "metadata": {},
   "outputs": [
    {
     "name": "stdout",
     "output_type": "stream",
     "text": [
      "Hello, World!\n"
     ]
    }
   ],
   "source": [
    "#This is a comment\n",
    "#written in\n",
    "#more than just one line\n",
    "print(\"Hello, World!\")"
   ]
  },
  {
   "cell_type": "code",
   "execution_count": 12,
   "id": "273fad7d-d63e-4d6d-ba44-0c3fab198cec",
   "metadata": {},
   "outputs": [
    {
     "name": "stdout",
     "output_type": "stream",
     "text": [
      "Hello, World!\n"
     ]
    }
   ],
   "source": [
    "\"\"\"\n",
    "This is a comment\n",
    "written in\n",
    "more than just one line\n",
    "\"\"\"\n",
    "print(\"Hello, World!\")"
   ]
  },
  {
   "cell_type": "markdown",
   "id": "d7f42be2-b8d5-4e43-9f49-501673189ba9",
   "metadata": {},
   "source": [
    "Python Variables"
   ]
  },
  {
   "cell_type": "code",
   "execution_count": 14,
   "id": "3ccbe4cd-a5b8-445c-bb2a-63fc24648853",
   "metadata": {},
   "outputs": [
    {
     "name": "stdout",
     "output_type": "stream",
     "text": [
      "5\n",
      "John\n",
      "Sally\n",
      "<class 'int'>\n",
      "<class 'str'>\n",
      "Orange\n",
      "Banana\n",
      "Cherry\n",
      "Orange\n",
      "Orange\n",
      "Orange\n",
      "apple\n",
      "banana\n",
      "cherry\n",
      "Python is awesome\n",
      "Python is awesome\n",
      "Python is awesome\n",
      "15\n",
      "5 John\n",
      "Python is awesome\n",
      "Python is fantastic\n",
      "Python is awesome\n",
      "Python is fantastic\n",
      "Python is fantastic\n"
     ]
    }
   ],
   "source": [
    "#Python Variables\n",
    "x = 5\n",
    "y = \"John\"\n",
    "print(x)\n",
    "print(y)\n",
    "\n",
    "x = 4       # x is of type int\n",
    "x = \"Sally\" # x is now of type str\n",
    "print(x)\n",
    "\n",
    "x = str(3)    # x will be '3'\n",
    "y = int(3)    # y will be 3\n",
    "z = float(3)  # z will be 3.0\n",
    "\n",
    "x = 5\n",
    "y = \"John\"\n",
    "print(type(x))\n",
    "print(type(y))\n",
    "\n",
    "x = \"John\"\n",
    "# is the same as\n",
    "x = 'John'\n",
    "\n",
    "a = 4\n",
    "A = \"Sally\"\n",
    "#A will not overwrite \n",
    "\n",
    "#Variables Names\n",
    "myvar = \"John\"\n",
    "my_var = \"John\"\n",
    "_my_var = \"John\"\n",
    "myVar = \"John\"\n",
    "MYVAR = \"John\"\n",
    "myvar2 = \"John\"\n",
    "\n",
    "#Assign Multiple Values\n",
    "x, y, z = \"Orange\", \"Banana\", \"Cherry\"\n",
    "print(x)\n",
    "print(y)\n",
    "print(z)\n",
    "\n",
    "x = y = z = \"Orange\"\n",
    "print(x)\n",
    "print(y)\n",
    "print(z)\n",
    "\n",
    "fruits = [\"apple\", \"banana\", \"cherry\"]\n",
    "x, y, z = fruits\n",
    "print(x)\n",
    "print(y)\n",
    "print(z)\n",
    "\n",
    "#Output Variables\n",
    "x = \"Python is awesome\"\n",
    "print(x)\n",
    "\n",
    "x = \"Python\"\n",
    "y = \"is\"\n",
    "z = \"awesome\"\n",
    "print(x, y, z)\n",
    "\n",
    "x = \"Python \"\n",
    "y = \"is \"\n",
    "z = \"awesome\"\n",
    "print(x + y + z)\n",
    "\n",
    "x = 5\n",
    "y = 10\n",
    "print(x + y)\n",
    "\n",
    "x = 5\n",
    "y = \"John\"\n",
    "print(x, y)\n",
    "\n",
    "#Global Variables\n",
    "x = \"awesome\"\n",
    "def myfunc():\n",
    "  print(\"Python is \" + x)\n",
    "myfunc()\n",
    "\n",
    "x = \"awesome\"\n",
    "def myfunc():\n",
    "  x = \"fantastic\"\n",
    "  print(\"Python is \" + x)\n",
    "myfunc()\n",
    "print(\"Python is \" + x)\n",
    "\n",
    "def myfunc():\n",
    "  global x\n",
    "  x = \"fantastic\"\n",
    "myfunc()\n",
    "print(\"Python is \" + x)\n",
    "\n",
    "def myfunc():\n",
    "  global x\n",
    "  x = \"fantastic\"\n",
    "myfunc()\n",
    "print(\"Python is \" + x)\n",
    "\n"
   ]
  },
  {
   "cell_type": "markdown",
   "id": "51535642-0e98-4170-a911-32c167bc49a4",
   "metadata": {},
   "source": [
    "Python Data Types "
   ]
  },
  {
   "cell_type": "code",
   "execution_count": 18,
   "id": "527b7df4-d3e4-4ee4-a4c7-d464cfbd1bdd",
   "metadata": {},
   "outputs": [
    {
     "name": "stdout",
     "output_type": "stream",
     "text": [
      "<class 'int'>\n"
     ]
    }
   ],
   "source": [
    "x = 5\n",
    "print(type(x))"
   ]
  },
  {
   "cell_type": "code",
   "execution_count": 19,
   "id": "2b9b0589-3d6b-4c5e-921a-ecedba3f7f0c",
   "metadata": {},
   "outputs": [
    {
     "ename": "SyntaxError",
     "evalue": "invalid syntax (540211146.py, line 1)",
     "output_type": "error",
     "traceback": [
      "\u001b[1;36m  Cell \u001b[1;32mIn[19], line 1\u001b[1;36m\u001b[0m\n\u001b[1;33m    x = \"Hello World\"\tstr\u001b[0m\n\u001b[1;37m                     \t^\u001b[0m\n\u001b[1;31mSyntaxError\u001b[0m\u001b[1;31m:\u001b[0m invalid syntax\n"
     ]
    }
   ],
   "source": [
    "x = \"Hello World\"\tstr\t\n",
    "x = 20\tint\t\n",
    "x = 20.5\tfloat\t\n",
    "x = 1j\tcomplex\t\n",
    "x = [\"apple\", \"banana\", \"cherry\"]\tlist\t\n",
    "x = (\"apple\", \"banana\", \"cherry\")\ttuple\t\n",
    "x = range(6)\trange\t\n",
    "x = {\"name\" : \"John\", \"age\" : 36}\tdict\t\n",
    "x = {\"apple\", \"banana\", \"cherry\"}\tset\t\n",
    "x = frozenset({\"apple\", \"banana\", \"cherry\"})\tfrozenset\t\n",
    "x = True\tbool\t\n",
    "x = b\"Hello\"\tbytes\t\n",
    "x = bytearray(5)\tbytearray\t\n",
    "x = memoryview(bytes(5))\tmemoryview\t\n",
    "x = None\tNoneType"
   ]
  },
  {
   "cell_type": "code",
   "execution_count": 20,
   "id": "af6b7682-bb54-488e-807b-b2243ef9c612",
   "metadata": {},
   "outputs": [
    {
     "ename": "SyntaxError",
     "evalue": "invalid syntax (3862684090.py, line 1)",
     "output_type": "error",
     "traceback": [
      "\u001b[1;36m  Cell \u001b[1;32mIn[20], line 1\u001b[1;36m\u001b[0m\n\u001b[1;33m    x = str(\"Hello World\")\tstr\u001b[0m\n\u001b[1;37m                          \t^\u001b[0m\n\u001b[1;31mSyntaxError\u001b[0m\u001b[1;31m:\u001b[0m invalid syntax\n"
     ]
    }
   ],
   "source": [
    "x = str(\"Hello World\")\tstr\t\n",
    "x = int(20)\tint\t\n",
    "x = float(20.5)\tfloat\t\n",
    "x = complex(1j)\tcomplex\t\n",
    "x = list((\"apple\", \"banana\", \"cherry\"))\tlist\t\n",
    "x = tuple((\"apple\", \"banana\", \"cherry\"))\ttuple\t\n",
    "x = range(6)\trange\t\n",
    "x = dict(name=\"John\", age=36)\tdict\t\n",
    "x = set((\"apple\", \"banana\", \"cherry\"))\tset\t\n",
    "x = frozenset((\"apple\", \"banana\", \"cherry\"))\tfrozenset\t\n",
    "x = bool(5)\tbool\t\n",
    "x = bytes(5)\tbytes\t\n",
    "x = bytearray(5)\tbytearray\t\n",
    "x = memoryview(bytes(5))\tmemoryview"
   ]
  },
  {
   "cell_type": "markdown",
   "id": "a950ab94-d740-4e5b-9a6d-03a1cc738b5e",
   "metadata": {},
   "source": [
    "Python Numbers"
   ]
  },
  {
   "cell_type": "code",
   "execution_count": 21,
   "id": "5ea7beea-777a-426f-bcd0-f437e1252dee",
   "metadata": {},
   "outputs": [],
   "source": [
    "x = 1    # int\n",
    "y = 2.8  # float\n",
    "z = 1j   # complex"
   ]
  },
  {
   "cell_type": "code",
   "execution_count": 23,
   "id": "a965245c-e04b-475a-b3e1-edeb5479aa77",
   "metadata": {},
   "outputs": [
    {
     "name": "stdout",
     "output_type": "stream",
     "text": [
      "<class 'int'>\n",
      "<class 'float'>\n",
      "<class 'complex'>\n"
     ]
    }
   ],
   "source": [
    "print(type(x))\n",
    "print(type(y))\n",
    "print(type(z))"
   ]
  },
  {
   "cell_type": "code",
   "execution_count": 25,
   "id": "01310394-1296-46af-bc38-4375b02cb854",
   "metadata": {},
   "outputs": [
    {
     "name": "stdout",
     "output_type": "stream",
     "text": [
      "<class 'int'>\n",
      "<class 'int'>\n",
      "<class 'int'>\n"
     ]
    }
   ],
   "source": [
    "x = 1\n",
    "y = 35656222554887711\n",
    "z = -3255522\n",
    "\n",
    "print(type(x))\n",
    "print(type(y))\n",
    "print(type(z))"
   ]
  },
  {
   "cell_type": "code",
   "execution_count": 26,
   "id": "2deffda7-7a8c-4f51-817a-1db47a04d8c6",
   "metadata": {},
   "outputs": [
    {
     "name": "stdout",
     "output_type": "stream",
     "text": [
      "<class 'float'>\n",
      "<class 'float'>\n",
      "<class 'float'>\n"
     ]
    }
   ],
   "source": [
    "x = 1.10\n",
    "y = 1.0\n",
    "z = -35.59\n",
    "\n",
    "print(type(x))\n",
    "print(type(y))\n",
    "print(type(z))"
   ]
  },
  {
   "cell_type": "code",
   "execution_count": 27,
   "id": "0ac20019-a5da-424b-bf36-fddb34427932",
   "metadata": {},
   "outputs": [
    {
     "name": "stdout",
     "output_type": "stream",
     "text": [
      "<class 'float'>\n",
      "<class 'float'>\n",
      "<class 'float'>\n"
     ]
    }
   ],
   "source": [
    "x = 35e3\n",
    "y = 12E4\n",
    "z = -87.7e100\n",
    "\n",
    "print(type(x))\n",
    "print(type(y))\n",
    "print(type(z))"
   ]
  },
  {
   "cell_type": "code",
   "execution_count": 28,
   "id": "9ae853ae-b939-4a3d-830b-adf081264ef5",
   "metadata": {},
   "outputs": [
    {
     "name": "stdout",
     "output_type": "stream",
     "text": [
      "<class 'complex'>\n",
      "<class 'complex'>\n",
      "<class 'complex'>\n"
     ]
    }
   ],
   "source": [
    "x = 3+5j\n",
    "y = 5j\n",
    "z = -5j\n",
    "\n",
    "print(type(x))\n",
    "print(type(y))\n",
    "print(type(z))"
   ]
  },
  {
   "cell_type": "code",
   "execution_count": 29,
   "id": "af603038-6659-4ece-9190-81cd7464004b",
   "metadata": {},
   "outputs": [
    {
     "name": "stdout",
     "output_type": "stream",
     "text": [
      "1.0\n",
      "2\n",
      "(1+0j)\n",
      "<class 'float'>\n",
      "<class 'int'>\n",
      "<class 'complex'>\n"
     ]
    }
   ],
   "source": [
    "x = 1    # int\n",
    "y = 2.8  # float\n",
    "z = 1j   # complex\n",
    "\n",
    "#convert from int to float:\n",
    "a = float(x)\n",
    "\n",
    "#convert from float to int:\n",
    "b = int(y)\n",
    "\n",
    "#convert from int to complex:\n",
    "c = complex(x)\n",
    "\n",
    "print(a)\n",
    "print(b)\n",
    "print(c)\n",
    "\n",
    "print(type(a))\n",
    "print(type(b))\n",
    "print(type(c))"
   ]
  },
  {
   "cell_type": "code",
   "execution_count": 30,
   "id": "caf428be-38b1-495c-b0bc-11d0bb9b307a",
   "metadata": {},
   "outputs": [
    {
     "name": "stdout",
     "output_type": "stream",
     "text": [
      "1\n"
     ]
    }
   ],
   "source": [
    "import random\n",
    "\n",
    "print(random.randrange(1, 10))"
   ]
  },
  {
   "cell_type": "markdown",
   "id": "f1fe7fe3-5c57-4bb6-a90b-d58fada35488",
   "metadata": {},
   "source": [
    "Python Casting"
   ]
  },
  {
   "cell_type": "code",
   "execution_count": 31,
   "id": "d1a2412e-153c-4b21-ba57-db311970d7ba",
   "metadata": {},
   "outputs": [
    {
     "name": "stdout",
     "output_type": "stream",
     "text": [
      "Hello\n",
      "Hello\n",
      "It's alright\n",
      "He is called 'Johnny'\n",
      "He is called \"Johnny\"\n",
      "Hello\n",
      "Lorem ipsum dolor sit amet,\n",
      "consectetur adipiscing elit,\n",
      "sed do eiusmod tempor incididunt\n",
      "ut labore et dolore magna aliqua.\n"
     ]
    }
   ],
   "source": [
    "#Python Strings\n",
    "print(\"Hello\")\n",
    "print('Hello')\n",
    "\n",
    "print(\"It's alright\")\n",
    "print(\"He is called 'Johnny'\")\n",
    "print('He is called \"Johnny\"')\n",
    "\n",
    "a = \"Hello\"\n",
    "print(a)\n",
    "\n",
    "a = \"\"\"Lorem ipsum dolor sit amet,\n",
    "consectetur adipiscing elit,\n",
    "sed do eiusmod tempor incididunt\n",
    "ut labore et dolore magna aliqua.\"\"\"\n",
    "print(a)\n",
    "\n"
   ]
  },
  {
   "cell_type": "code",
   "execution_count": 32,
   "id": "37d3b327-5fdd-4522-bc00-7b2bbe1275da",
   "metadata": {},
   "outputs": [
    {
     "name": "stdout",
     "output_type": "stream",
     "text": [
      "llo\n",
      "Hello\n",
      "llo, World!\n",
      "orl\n"
     ]
    }
   ],
   "source": [
    "#Slicing Strings\n",
    "b = \"Hello, World!\"\n",
    "print(b[2:5])\n",
    "\n",
    "b = \"Hello, World!\"\n",
    "print(b[:5])\n",
    "\n",
    "b = \"Hello, World!\"\n",
    "print(b[2:])\n",
    "\n",
    "b = \"Hello, World!\"\n",
    "print(b[-5:-2])"
   ]
  },
  {
   "cell_type": "code",
   "execution_count": 33,
   "id": "ec7aada2-5679-499b-8516-c1a9fba52310",
   "metadata": {},
   "outputs": [
    {
     "name": "stdout",
     "output_type": "stream",
     "text": [
      "HELLO, WORLD!\n",
      "hello, world!\n",
      "Hello, World!\n",
      "Jello, World!\n",
      "['Hello', ' World!']\n"
     ]
    }
   ],
   "source": [
    "#Modify Strings\n",
    "a = \"Hello, World!\"\n",
    "print(a.upper())\n",
    "\n",
    "a = \"Hello, World!\"\n",
    "print(a.lower())\n",
    "\n",
    "a = \" Hello, World! \"\n",
    "print(a.strip()) # returns \"Hello, World!\"\n",
    "\n",
    "a = \"Hello, World!\"\n",
    "print(a.replace(\"H\", \"J\"))\n",
    "\n",
    "a = \"Hello, World!\"\n",
    "print(a.split(\",\")) # returns ['Hello', ' World!']"
   ]
  },
  {
   "cell_type": "code",
   "execution_count": 34,
   "id": "ba2144de-09d5-45e2-a00b-8c50ac53a20c",
   "metadata": {},
   "outputs": [
    {
     "name": "stdout",
     "output_type": "stream",
     "text": [
      "HelloWorld\n",
      "Hello World\n"
     ]
    }
   ],
   "source": [
    "#String Concatenation\n",
    "a = \"Hello\"\n",
    "b = \"World\"\n",
    "c = a + b\n",
    "print(c)\n",
    "\n",
    "a = \"Hello\"\n",
    "b = \"World\"\n",
    "c = a + \" \" + b\n",
    "print(c)"
   ]
  },
  {
   "cell_type": "code",
   "execution_count": 35,
   "id": "78db3bfc-104a-41a4-8ec0-5249d0f7c8d9",
   "metadata": {},
   "outputs": [
    {
     "name": "stdout",
     "output_type": "stream",
     "text": [
      "My name is John, I am 36\n",
      "The price is 59 dollars\n",
      "The price is 59.00 dollars\n",
      "The price is 1180 dollars\n"
     ]
    }
   ],
   "source": [
    "#Format Strings\n",
    "age = 36\n",
    "txt = f\"My name is John, I am {age}\"\n",
    "print(txt)\n",
    "\n",
    "price = 59\n",
    "txt = f\"The price is {price} dollars\"\n",
    "print(txt)\n",
    "\n",
    "price = 59\n",
    "txt = f\"The price is {price:.2f} dollars\"\n",
    "print(txt)\n",
    "\n",
    "txt = f\"The price is {20 * 59} dollars\"\n",
    "print(txt)\n",
    "\n"
   ]
  },
  {
   "cell_type": "code",
   "execution_count": 36,
   "id": "73f0b93d-51e2-403b-9352-b701e7c02be1",
   "metadata": {},
   "outputs": [],
   "source": [
    "#Escape Characters\n",
    "txt = \"We are the so-called \\\"Vikings\\\" from the north.\"\n"
   ]
  }
 ],
 "metadata": {
  "kernelspec": {
   "display_name": "Python 3 (ipykernel)",
   "language": "python",
   "name": "python3"
  },
  "language_info": {
   "codemirror_mode": {
    "name": "ipython",
    "version": 3
   },
   "file_extension": ".py",
   "mimetype": "text/x-python",
   "name": "python",
   "nbconvert_exporter": "python",
   "pygments_lexer": "ipython3",
   "version": "3.12.7"
  }
 },
 "nbformat": 4,
 "nbformat_minor": 5
}
